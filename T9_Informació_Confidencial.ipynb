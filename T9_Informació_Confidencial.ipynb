{
  "nbformat": 4,
  "nbformat_minor": 0,
  "metadata": {
    "colab": {
      "name": "T9 Informació Confidencial.ipynb",
      "provenance": [],
      "collapsed_sections": [
        "9ex71geM04Hn",
        "Ix6Be-QUvG4E",
        "UrTTzh8awMcc"
      ],
      "authorship_tag": "ABX9TyOX1PBN61Bh5mpjvK1lvUu4",
      "include_colab_link": true
    },
    "kernelspec": {
      "name": "python3",
      "display_name": "Python 3"
    }
  },
  "cells": [
    {
      "cell_type": "markdown",
      "metadata": {
        "id": "view-in-github",
        "colab_type": "text"
      },
      "source": [
        "<a href=\"https://colab.research.google.com/github/jmcarbo/RGPD/blob/main/T9_Informaci%C3%B3_Confidencial.ipynb\" target=\"_parent\"><img src=\"https://colab.research.google.com/assets/colab-badge.svg\" alt=\"Open In Colab\"/></a>"
      ]
    },
    {
      "cell_type": "markdown",
      "metadata": {
        "id": "gblgxvQjuYIn"
      },
      "source": [
        "# T9. Principis, procediments i marc legal per al maneig d'informació confidencial"
      ]
    },
    {
      "cell_type": "markdown",
      "metadata": {
        "id": "Zgzbprle3dvc"
      },
      "source": [
        "En aquest tema analitzarem alguns aspectes del Reglament General de Protecció de Dades (RGPD) de la Unió Europea i com aquest afecta a la pràctica mèdica.\n",
        "\n",
        "Primer definirem què entenem per dades personals, que són les que són les que protegeix el Reglament, a continuació revisarem els conceptes més rellevants del Reglament i la legislació associada i, per últim, repassarem alguns aspectes generals de la seguretat informàtica que ens seran útils en la nostra pràctica diària."
      ]
    },
    {
      "cell_type": "markdown",
      "metadata": {
        "id": "s2FJH0Irvj78"
      },
      "source": [
        "## Definició de \"Dades Personals\""
      ]
    },
    {
      "cell_type": "markdown",
      "metadata": {
        "id": "W8aNR6qQvnev"
      },
      "source": [
        "Totes dada que pugui associar-se a una persona física concreta es considera una **Dada Personal** i està regulada perl RGPD. Obviament no totes les dades personals són igualment sensibles, per exemple, dades referents a la salut, la religió o les idees polítiques d'una persona s'han de considerar molt més sensibles que no pas la seva edat.\n",
        "\n",
        "Parlem de dades de salut **dissociades** quan no contenen cap dada que ens permeti referir-les a una persona física concreta. Aquesta dissociació pot ser reversible si hi ha algun codi que ens permeti trobar l'equivalència entre les dades i la persona. Les dissociacions reversibles s'han de gestionar de manera que poques persones coneguin la taula d'equivalències de codis amb persones."
      ]
    },
    {
      "cell_type": "markdown",
      "metadata": {
        "id": "9ex71geM04Hn"
      },
      "source": [
        "## Conceptes RGPD (Reglament General de Protecció de Dades)\n",
        "\n",
        "El Reglament General de Protecció de Dades estableix una sèrie de principis i conceptes que resumim a continuació:\n",
        "\n",
        "* La gestió de dades ha de regirse pels principis de **seguretat per defecte** i per la **proactivitat**. És a dir, les dades han d'estar protegides de manera que només hi pugui accedir qui hi tingui que accedir pel periode que hi tingui necessitat d'accedir, en cas contrari no han de ser accessibles. A més, l'organització que gestioni les dades ha de tenir una actitud proactiva,  adelantar-se als problemes i poder demostrar que ha pres totes les mesures necessàries per evitar problemes de seguretat amb les dades.\n",
        "* Cal que l'orgranitzaicó que gestiona dades faci un **Anàlisi de Riscos** associats a aquesta gestió de dades i prengui les accions necessàries per evitar-los. A més, si fa tractaments de dades potencialment perillosos (gestions massives, etc) caldrà que faci un anàlisi previ de l'**Impacte de tractament** d'aquestes dades.\n",
        "* Les organitzacions que gestionen dades personals cal que disposin d'un **Delegat de protecció de dades** (DPD) encarregat de garantir el compliment del RGPD dins la institució.\n",
        "* Sempre que es produeixi un incident de seguretat que pugui afectar a dades personals caldrà comunicar-ho mitjançant una **Comunicació d'escletxa de seguretat** tant a l'Agència Española de Protecció de Dades com als possibles afectats."
      ]
    },
    {
      "cell_type": "markdown",
      "metadata": {
        "id": "Hvbqjzv1vDvf"
      },
      "source": [
        "## Entorn normatiu"
      ]
    },
    {
      "cell_type": "markdown",
      "metadata": {
        "id": "Ix6Be-QUvG4E"
      },
      "source": [
        "L'entorn normatiu que fa referència a la gestió de dades personals inclou no només el RGPD sinó altres legislacions addicionals que enumerem a continuació.\n",
        "\n",
        "### Protecció de dades\n",
        "\n",
        "* REGLAMENTO (UE) 2016/679 DEL PARLAMENTO EUROPEO Y DEL CONSEJO de 27 de abril de 2016 relativo a la protección de las personas físicas en lo que respecta al tratamiento de datos personales y a la libre circulación de estos datos y por el que se deroga la Directiva 95/46/CE (Reglamento general de protección de datos)\n",
        "\n",
        "* Corrección de errores del Reglamento (UE) 2016/679 del Parlamento Europeo y del Consejo, de 27 de abril de 2016, relativo a la protección de las personas físicas en lo que respecta al tratamiento de datos personales y a la libre circulación de estos datos y por el que se deroga la Directiva 95/46/CE (Reglamento general de protección de datos)\n",
        "\n",
        "* Ley Orgánica 3/2018, de 5 de diciembre, de Protección de Datos Personales y garantía de los derechos digitales\n",
        "\n",
        "### Societat de la informació i telecomunicacions\n",
        "\n",
        "* Ley 34/2002, de 11 de julio, de servicios de la sociedad de la información y de comercio electrónico\n",
        "\n",
        "* Ley 9/2014, de 9 de mayo, General de Telecomunicaciones\n",
        "\n",
        "### Ciència\n",
        "\n",
        "* Ley 14/2011, de 1 de junio, de la Ciencia, la Tecnología y la Innovación."
      ]
    },
    {
      "cell_type": "markdown",
      "metadata": {
        "id": "MT9LcLk6vO9K"
      },
      "source": [
        "## Entitats involucrades"
      ]
    },
    {
      "cell_type": "markdown",
      "metadata": {
        "id": "g5GTRl01vVWT"
      },
      "source": [
        "Hi ha dues agències a l'Estat Espanyol que s'encarreguen de vetllar pel compliment del RGPD:\n",
        "\n",
        "* Agencia de protección de datos: https://www.agpd.es.\n",
        "\n",
        "* Agència catalana de protecció de dades: http:// www.apdcat.net/"
      ]
    },
    {
      "cell_type": "markdown",
      "metadata": {
        "id": "z_hEbgw393pe"
      },
      "source": [
        "## Seguretat informàtica\n",
        "\n",
        "A continuació repassarem alguns conceptes relacionats amb la seguretat informàtica i que constitueixen mesures habituals en els plans d'actuació del RGPD.\n",
        "\n",
        "Hem dividit els aspectes de seguretat informàtica en **seguretat física** (aquelles mesures que incideixen sobre els aspectes materials) i **seguretat lògica** (aquells aspectes que fan referència a mesures intagibles sovint relacionades amb el programari informàtic)"
      ]
    },
    {
      "cell_type": "markdown",
      "metadata": {
        "id": "-AfPYizuvxC_"
      },
      "source": [
        "### Seguretat física"
      ]
    },
    {
      "cell_type": "markdown",
      "metadata": {
        "id": "PpDp8as4vy4A"
      },
      "source": [
        "* Cal tenir els suports d'informació (paper, suports informàtics, maquinari, ...) en ubicacions físiques adeqüadament protegides contra **accessos** indeguts o **perills físics o químics** (incendis, inundacions, etc).\n",
        "* Es limitarà l'accés físic al personal autoritzat i s’establirà un control dels accessos.\n",
        "* La destrucció de la informació ha d’evitar-ne la posterior recuperació cremant-la o amb altres mètodes que impossibilitin la seva recuperació.\n",
        "* El trasllat físic de la informació s'ha de fer de manera segura i documentada."
      ]
    },
    {
      "cell_type": "markdown",
      "metadata": {
        "id": "EbDbtU1Rv6uX"
      },
      "source": [
        "### Seguretat lògica"
      ]
    },
    {
      "cell_type": "markdown",
      "metadata": {
        "id": "UrTTzh8awMcc"
      },
      "source": [
        "\n",
        "#### Control d'accés:\n",
        "\n",
        "Hi ha dos aspectes centrals en el control d'accés a la informació:\n",
        "\n",
        "* **Autenticació**: consisteix en acreditar la identitat de qui accedeix mitjançan un nom d'usuari i contrasenya o altres mètodes biomètrics. Aquesta autenticació es pot millorar amb mètodes com la doble autenticació en la que es demana addicionalment a l'usuari i la contrasenya un codi temporal generat aleatòriament.\n",
        "* **Autorització**: consisteix en determinar a quins recursos té accés cada persona autenticada. Per exemple, un metge té accés només a les històries clíniques dels seus pacients i no a la d'altres.\n",
        "\n",
        "Per tant, caldrà sempre tenir una relació actualitzada d’usuaris del sistema i delimitar a quina informació té accés cada usuàri-ària.\n",
        "\n",
        "Cal també garantir que els intents d'accés al sistema tenen un número limitat d'intents infructuosos, més enllà dels quals es bloqueja l'accés.\n",
        "\n",
        "Cal també guardar un registre d'accessos al sistema per poder determinar qui va accedir-hi de manera retrospectiva.\n",
        "\n",
        "#### Còpies de seguretat\n",
        "\n",
        "Les còpies de seguretat periòdiques de la informació permeten:\n",
        "\n",
        "* Recuperar la informació en cas de desastres que afectin al gruix de les dades (incendis, pèrdues).\n",
        "* Recuperació informació esborrada de manera selectiva per error o intencionadament.\n",
        "\n",
        "És essencial realitzar còpies de seguretat donat que tots els medis físics poden fallar tard o d'hora.\n",
        "\n",
        "Hi ha tres tipus de sistemes de còpies:\n",
        "\n",
        "* Incremental: només es copia la informació que ha canviat des de l'última còpia.\n",
        "* Diferencial: es copia tota la informació que ha canviat des de l'última còpia completa.\n",
        "* Total: sempre es fa una còpia total de la informació.\n",
        "\n",
        "Es necessari conservar una còpia de seguretat de la informaició en un lloc diferent del de la ubicació dels equips informàtics que tractin les dades.\n",
        "\n",
        "Cal mantenir una llista d'incidents que han ocasionat la necessitat de recuperació de dades a partir de les còpies de seguretat.\n",
        "\n",
        "#### Xifrat de dades\n",
        "\n",
        "Les deades sensibles cal que estiguin ocultes en cas de que algú hi logri accedir de manera no autoritzada. Per aixó s'emprea l'encriptació o xifrat de les mateixes. Hi ha dos grans tipus de xifrat: **simètric** i **assimètric**.\n",
        "\n",
        "El xifrat **simètric** requereix una **contrasenya** i, mitjançant un algorisme matemàtic transforma les dades originals en dades xifrades. El problema d'aquest tipus d'encriptació és que cal transmetre la contrasenya a tothom que tingui necessitat de desxifrar les dades i aquesta transmissió pot comprometre la seguretat de la contrasenya.\n",
        "\n",
        "El xifrat **assimètric** es base en dues claus, una **pública** que pot viatjar sense restriccions i ser comunicada a qui calgui, i una **privada** que cal que sigui custodiada amb rigor. Per xifrar les dades es fa servir la clau privada i per desxifrar-les la clau pública. Si volem que només ho pogui desxifrar un nombre limitat de persones cal que ho xifrem amb la nostra clau privada i la pública de les persones que volem que ho puguin veure. Amb aquest sistema també podem signar documents (garantir que no s'han alterat desde la signatura i que qui ho ha signat és realment la persona propietària de la clau privada emprada per signar.\n",
        "\n",
        "Cal evitar que els dispositius portàtils continguin dades pesonals sense xifrar.\n",
        "\n",
        "Les transmissions de dades per xarxes de comunicacions han de ser xifrades."
      ]
    }
  ]
}